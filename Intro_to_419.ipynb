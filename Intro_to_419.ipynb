{
  "nbformat": 4,
  "nbformat_minor": 0,
  "metadata": {
    "colab": {
      "name": "Intro to 419",
      "provenance": [],
      "collapsed_sections": [],
      "authorship_tag": "ABX9TyPhBGBi+n3RkXLD6OXbGcUT",
      "include_colab_link": true
    },
    "kernelspec": {
      "name": "python3",
      "display_name": "Python 3"
    }
  },
  "cells": [
    {
      "cell_type": "markdown",
      "metadata": {
        "id": "view-in-github",
        "colab_type": "text"
      },
      "source": [
        "<a href=\"https://colab.research.google.com/github/RKohls21/CPSC-419/blob/main/Intro_to_419.ipynb\" target=\"_parent\"><img src=\"https://colab.research.google.com/assets/colab-badge.svg\" alt=\"Open In Colab\"/></a>"
      ]
    },
    {
      "cell_type": "code",
      "metadata": {
        "id": "JG2EBPMzeV6V",
        "outputId": "049bfe42-6983-4b8a-fb56-05d2559be84a",
        "colab": {
          "base_uri": "https://localhost:8080/"
        }
      },
      "source": [
        "miles = 1875\n",
        "gallons = 97\n",
        "mpg = miles/gallons\n",
        "print(mpg)"
      ],
      "execution_count": null,
      "outputs": [
        {
          "output_type": "stream",
          "text": [
            "19.329896907216494\n"
          ],
          "name": "stdout"
        }
      ]
    },
    {
      "cell_type": "code",
      "metadata": {
        "id": "Hx-NS66XesFF"
      },
      "source": [
        "import numpy as np\n",
        "bodhi = np.array([1, 2, 3])"
      ],
      "execution_count": 4,
      "outputs": []
    },
    {
      "cell_type": "code",
      "metadata": {
        "id": "R2OM7Ni0fqNW",
        "outputId": "e4c53f32-d228-407a-f26d-f8c4f69a0cc6",
        "colab": {
          "base_uri": "https://localhost:8080/",
          "height": 34
        }
      },
      "source": [
        "bodhi"
      ],
      "execution_count": 5,
      "outputs": [
        {
          "output_type": "execute_result",
          "data": {
            "text/plain": [
              "array([1, 2, 3])"
            ]
          },
          "metadata": {
            "tags": []
          },
          "execution_count": 5
        }
      ]
    },
    {
      "cell_type": "code",
      "metadata": {
        "id": "et67Mtb3f5Ne"
      },
      "source": [
        "arr2d = np.array([[1, 2, 3], [4, 5, 6]])"
      ],
      "execution_count": 6,
      "outputs": []
    },
    {
      "cell_type": "code",
      "metadata": {
        "id": "VO6ju8lSga1B",
        "outputId": "ec7d55fb-4ac7-4f2f-883a-72b07e4c641a",
        "colab": {
          "base_uri": "https://localhost:8080/",
          "height": 50
        }
      },
      "source": [
        "arr2d"
      ],
      "execution_count": 7,
      "outputs": [
        {
          "output_type": "execute_result",
          "data": {
            "text/plain": [
              "array([[1, 2, 3],\n",
              "       [4, 5, 6]])"
            ]
          },
          "metadata": {
            "tags": []
          },
          "execution_count": 7
        }
      ]
    },
    {
      "cell_type": "code",
      "metadata": {
        "id": "8ws6kTX9gf8-"
      },
      "source": [
        "import numpy\n",
        "arr3 = numpy.array ([1, 2, 3])"
      ],
      "execution_count": 8,
      "outputs": []
    },
    {
      "cell_type": "code",
      "metadata": {
        "id": "4xrVE0weg5M7"
      },
      "source": [
        "import numpy as deeplearninglibrary\n",
        "arr4 = deeplearninglibrary.array([1, 2, 3])"
      ],
      "execution_count": 9,
      "outputs": []
    },
    {
      "cell_type": "markdown",
      "metadata": {
        "id": "FaozudiahZ4I"
      },
      "source": [
        "Other ways to write arrays\n"
      ]
    },
    {
      "cell_type": "code",
      "metadata": {
        "id": "DJr7D-9Dhffd"
      },
      "source": [
        "pArr = [x for x in range (10)]"
      ],
      "execution_count": 10,
      "outputs": []
    },
    {
      "cell_type": "code",
      "metadata": {
        "id": "9CLpaFirh_4e",
        "outputId": "0ed94c80-51a0-4161-a28d-13c99fdc11f0",
        "colab": {
          "base_uri": "https://localhost:8080/",
          "height": 34
        }
      },
      "source": [
        "pArr"
      ],
      "execution_count": 11,
      "outputs": [
        {
          "output_type": "execute_result",
          "data": {
            "text/plain": [
              "[0, 1, 2, 3, 4, 5, 6, 7, 8, 9]"
            ]
          },
          "metadata": {
            "tags": []
          },
          "execution_count": 11
        }
      ]
    },
    {
      "cell_type": "code",
      "metadata": {
        "id": "U2i30QBEiBw-"
      },
      "source": [
        "pArr2d = [[x + y * 10 for x in range(10) ] for y in range(10)]"
      ],
      "execution_count": 12,
      "outputs": []
    },
    {
      "cell_type": "code",
      "metadata": {
        "id": "IeoXsaLCinEQ",
        "outputId": "1d60e5bf-2608-4030-aa22-97a5022fd6f2",
        "colab": {
          "base_uri": "https://localhost:8080/",
          "height": 185
        }
      },
      "source": [
        "pArr2d"
      ],
      "execution_count": 13,
      "outputs": [
        {
          "output_type": "execute_result",
          "data": {
            "text/plain": [
              "[[0, 1, 2, 3, 4, 5, 6, 7, 8, 9],\n",
              " [10, 11, 12, 13, 14, 15, 16, 17, 18, 19],\n",
              " [20, 21, 22, 23, 24, 25, 26, 27, 28, 29],\n",
              " [30, 31, 32, 33, 34, 35, 36, 37, 38, 39],\n",
              " [40, 41, 42, 43, 44, 45, 46, 47, 48, 49],\n",
              " [50, 51, 52, 53, 54, 55, 56, 57, 58, 59],\n",
              " [60, 61, 62, 63, 64, 65, 66, 67, 68, 69],\n",
              " [70, 71, 72, 73, 74, 75, 76, 77, 78, 79],\n",
              " [80, 81, 82, 83, 84, 85, 86, 87, 88, 89],\n",
              " [90, 91, 92, 93, 94, 95, 96, 97, 98, 99]]"
            ]
          },
          "metadata": {
            "tags": []
          },
          "execution_count": 13
        }
      ]
    },
    {
      "cell_type": "markdown",
      "metadata": {
        "id": "qRZ6Rz5Di9FE"
      },
      "source": [
        "#### In Numpy"
      ]
    },
    {
      "cell_type": "code",
      "metadata": {
        "id": "lzV06WvTjA1b"
      },
      "source": [
        "nArr = np.arange(100)"
      ],
      "execution_count": 14,
      "outputs": []
    },
    {
      "cell_type": "code",
      "metadata": {
        "id": "Hyc85v_kjYkj",
        "outputId": "319d0914-b5d0-4765-acdb-f84ccb622b26",
        "colab": {
          "base_uri": "https://localhost:8080/",
          "height": 118
        }
      },
      "source": [
        "nArr"
      ],
      "execution_count": 15,
      "outputs": [
        {
          "output_type": "execute_result",
          "data": {
            "text/plain": [
              "array([ 0,  1,  2,  3,  4,  5,  6,  7,  8,  9, 10, 11, 12, 13, 14, 15, 16,\n",
              "       17, 18, 19, 20, 21, 22, 23, 24, 25, 26, 27, 28, 29, 30, 31, 32, 33,\n",
              "       34, 35, 36, 37, 38, 39, 40, 41, 42, 43, 44, 45, 46, 47, 48, 49, 50,\n",
              "       51, 52, 53, 54, 55, 56, 57, 58, 59, 60, 61, 62, 63, 64, 65, 66, 67,\n",
              "       68, 69, 70, 71, 72, 73, 74, 75, 76, 77, 78, 79, 80, 81, 82, 83, 84,\n",
              "       85, 86, 87, 88, 89, 90, 91, 92, 93, 94, 95, 96, 97, 98, 99])"
            ]
          },
          "metadata": {
            "tags": []
          },
          "execution_count": 15
        }
      ]
    },
    {
      "cell_type": "code",
      "metadata": {
        "id": "FpwBbIRNokbS"
      },
      "source": [
        "nArr2 = nArr.reshape((10,10))"
      ],
      "execution_count": 20,
      "outputs": []
    },
    {
      "cell_type": "code",
      "metadata": {
        "id": "63Cw29FapU_i",
        "outputId": "d1cdaac9-206c-4f77-c880-68331ba61b62",
        "colab": {
          "base_uri": "https://localhost:8080/",
          "height": 34
        }
      },
      "source": [
        "nArr[3]"
      ],
      "execution_count": 21,
      "outputs": [
        {
          "output_type": "execute_result",
          "data": {
            "text/plain": [
              "3"
            ]
          },
          "metadata": {
            "tags": []
          },
          "execution_count": 21
        }
      ]
    },
    {
      "cell_type": "code",
      "metadata": {
        "id": "oLJzZsUEpbvM",
        "outputId": "02f7c2a0-f8e1-4931-f82e-2f727d559200",
        "colab": {
          "base_uri": "https://localhost:8080/",
          "height": 34
        }
      },
      "source": [
        "nArr2[1][3]"
      ],
      "execution_count": 22,
      "outputs": [
        {
          "output_type": "execute_result",
          "data": {
            "text/plain": [
              "13"
            ]
          },
          "metadata": {
            "tags": []
          },
          "execution_count": 22
        }
      ]
    },
    {
      "cell_type": "code",
      "metadata": {
        "id": "tTNB8EGXp5H7",
        "outputId": "56004cc7-68ff-4ed3-cc4f-68cad4b7ca50",
        "colab": {
          "base_uri": "https://localhost:8080/",
          "height": 185
        }
      },
      "source": [
        "nArr2"
      ],
      "execution_count": 23,
      "outputs": [
        {
          "output_type": "execute_result",
          "data": {
            "text/plain": [
              "array([[ 0,  1,  2,  3,  4,  5,  6,  7,  8,  9],\n",
              "       [10, 11, 12, 13, 14, 15, 16, 17, 18, 19],\n",
              "       [20, 21, 22, 23, 24, 25, 26, 27, 28, 29],\n",
              "       [30, 31, 32, 33, 34, 35, 36, 37, 38, 39],\n",
              "       [40, 41, 42, 43, 44, 45, 46, 47, 48, 49],\n",
              "       [50, 51, 52, 53, 54, 55, 56, 57, 58, 59],\n",
              "       [60, 61, 62, 63, 64, 65, 66, 67, 68, 69],\n",
              "       [70, 71, 72, 73, 74, 75, 76, 77, 78, 79],\n",
              "       [80, 81, 82, 83, 84, 85, 86, 87, 88, 89],\n",
              "       [90, 91, 92, 93, 94, 95, 96, 97, 98, 99]])"
            ]
          },
          "metadata": {
            "tags": []
          },
          "execution_count": 23
        }
      ]
    },
    {
      "cell_type": "markdown",
      "metadata": {
        "id": "IegJ0XsIqKFu"
      },
      "source": [
        "## All the same stuff as python - why bother?"
      ]
    },
    {
      "cell_type": "markdown",
      "metadata": {
        "id": "m_vs80EPqRiu"
      },
      "source": [
        "## Speed"
      ]
    },
    {
      "cell_type": "code",
      "metadata": {
        "id": "pYfzkRYvqTNU",
        "outputId": "94ae23ac-65d5-4760-aa38-70e20e65d858",
        "colab": {
          "base_uri": "https://localhost:8080/",
          "height": 50
        }
      },
      "source": [
        "%time pyT1 = [[x + y * 1000 for x in range (1000)] for y in range (1000)]"
      ],
      "execution_count": 24,
      "outputs": [
        {
          "output_type": "stream",
          "text": [
            "CPU times: user 114 ms, sys: 35.2 ms, total: 149 ms\n",
            "Wall time: 149 ms\n"
          ],
          "name": "stdout"
        }
      ]
    },
    {
      "cell_type": "code",
      "metadata": {
        "id": "NNBWqCsdrIwf",
        "outputId": "9facd4a1-e884-400c-81db-ea404fa61d48",
        "colab": {
          "base_uri": "https://localhost:8080/",
          "height": 50
        }
      },
      "source": [
        "%time nuT1 = np.arange(1000000).reshape(1000,1000)"
      ],
      "execution_count": 26,
      "outputs": [
        {
          "output_type": "stream",
          "text": [
            "CPU times: user 3.39 ms, sys: 0 ns, total: 3.39 ms\n",
            "Wall time: 3.02 ms\n"
          ],
          "name": "stdout"
        }
      ]
    },
    {
      "cell_type": "markdown",
      "metadata": {
        "id": "jJxO9UNqrme8"
      },
      "source": [
        "## Add 1 to each element, Python first"
      ]
    },
    {
      "cell_type": "code",
      "metadata": {
        "id": "00onue6srrDu",
        "outputId": "e294bad5-b461-455e-83fa-330e66f8f9e6",
        "colab": {
          "base_uri": "https://localhost:8080/",
          "height": 50
        }
      },
      "source": [
        "def add1():\n",
        "  for i in range(1000):\n",
        "    for j in range (1000):\n",
        "      pyT1[i][j] = pyT1[i][j] + 1\n",
        "%time add1()"
      ],
      "execution_count": 30,
      "outputs": [
        {
          "output_type": "stream",
          "text": [
            "CPU times: user 130 ms, sys: 1.97 ms, total: 132 ms\n",
            "Wall time: 134 ms\n"
          ],
          "name": "stdout"
        }
      ]
    },
    {
      "cell_type": "code",
      "metadata": {
        "id": "MiC4xZ0VstXT",
        "outputId": "260cd865-c42d-4320-96e3-0b041c038459",
        "colab": {
          "base_uri": "https://localhost:8080/",
          "height": 168
        }
      },
      "source": [
        "%time nuT1 + 1"
      ],
      "execution_count": 31,
      "outputs": [
        {
          "output_type": "stream",
          "text": [
            "CPU times: user 3.92 ms, sys: 55 µs, total: 3.97 ms\n",
            "Wall time: 3.08 ms\n"
          ],
          "name": "stdout"
        },
        {
          "output_type": "execute_result",
          "data": {
            "text/plain": [
              "array([[      1,       2,       3, ...,     998,     999,    1000],\n",
              "       [   1001,    1002,    1003, ...,    1998,    1999,    2000],\n",
              "       [   2001,    2002,    2003, ...,    2998,    2999,    3000],\n",
              "       ...,\n",
              "       [ 997001,  997002,  997003, ...,  997998,  997999,  998000],\n",
              "       [ 998001,  998002,  998003, ...,  998998,  998999,  999000],\n",
              "       [ 999001,  999002,  999003, ...,  999998,  999999, 1000000]])"
            ]
          },
          "metadata": {
            "tags": []
          },
          "execution_count": 31
        }
      ]
    },
    {
      "cell_type": "markdown",
      "metadata": {
        "id": "XsNNFudps-aC"
      },
      "source": [
        "## Numpy Functions"
      ]
    },
    {
      "cell_type": "code",
      "metadata": {
        "id": "QqrcD_sAtA9J",
        "outputId": "5018031b-502a-4724-cc8d-5ea7f524dfb1",
        "colab": {
          "base_uri": "https://localhost:8080/",
          "height": 34
        }
      },
      "source": [
        "nuT1.mean()"
      ],
      "execution_count": 33,
      "outputs": [
        {
          "output_type": "execute_result",
          "data": {
            "text/plain": [
              "499999.5"
            ]
          },
          "metadata": {
            "tags": []
          },
          "execution_count": 33
        }
      ]
    },
    {
      "cell_type": "code",
      "metadata": {
        "id": "H-yumebhtGp7",
        "outputId": "d66e7177-f3ff-48cb-dff3-c5cb0aa6d49c",
        "colab": {
          "base_uri": "https://localhost:8080/",
          "height": 34
        }
      },
      "source": [
        "nuT1.sum()"
      ],
      "execution_count": 34,
      "outputs": [
        {
          "output_type": "execute_result",
          "data": {
            "text/plain": [
              "499999500000"
            ]
          },
          "metadata": {
            "tags": []
          },
          "execution_count": 34
        }
      ]
    }
  ]
}